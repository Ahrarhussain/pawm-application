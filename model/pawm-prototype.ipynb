{
 "cells": [
  {
   "cell_type": "code",
   "execution_count": 1,
   "id": "fad72eb9",
   "metadata": {},
   "outputs": [],
   "source": [
    "import warnings; \n",
    "warnings.simplefilter('ignore')"
   ]
  },
  {
   "cell_type": "code",
   "execution_count": 2,
   "id": "e1edceb3",
   "metadata": {},
   "outputs": [
    {
     "name": "stdout",
     "output_type": "stream",
     "text": [
      "Collecting pystan\n",
      "  Using cached pystan-3.7.0-py3-none-any.whl (13 kB)\n",
      "Collecting aiohttp<4.0,>=3.6 (from pystan)\n",
      "  Using cached aiohttp-3.8.4-cp310-cp310-win_amd64.whl (319 kB)\n",
      "Collecting clikit<0.7,>=0.6 (from pystan)\n",
      "  Using cached clikit-0.6.2-py2.py3-none-any.whl (91 kB)\n",
      "INFO: pip is looking at multiple versions of pystan to determine which version is compatible with other requirements. This could take a while.\n",
      "Collecting pystan\n",
      "  Using cached pystan-3.6.0-py3-none-any.whl (13 kB)\n",
      "  Using cached pystan-3.5.0-py3-none-any.whl (13 kB)\n",
      "  Using cached pystan-3.4.0-py3-none-any.whl (13 kB)\n",
      "  Using cached pystan-3.3.0-py3-none-any.whl (13 kB)\n",
      "  Using cached pystan-3.2.0-py3-none-any.whl (13 kB)\n",
      "  Using cached pystan-3.1.1-py3-none-any.whl (13 kB)\n",
      "  Using cached pystan-3.1.0-py3-none-any.whl (13 kB)\n",
      "INFO: pip is looking at multiple versions of pystan to determine which version is compatible with other requirements. This could take a while.\n",
      "  Using cached pystan-3.0.2-py3-none-any.whl (13 kB)\n",
      "  Using cached pystan-3.0.1-py3-none-any.whl (12 kB)\n",
      "  Using cached pystan-3.0.0-py3-none-any.whl (12 kB)\n",
      "  Using cached pystan-2.19.1.1.tar.gz (16.2 MB)\n",
      "  Installing build dependencies: started\n",
      "  Installing build dependencies: finished with status 'done'\n",
      "  Getting requirements to build wheel: started\n",
      "  Getting requirements to build wheel: finished with status 'error'\n"
     ]
    },
    {
     "name": "stderr",
     "output_type": "stream",
     "text": [
      "  error: subprocess-exited-with-error\n",
      "  \n",
      "  Getting requirements to build wheel did not run successfully.\n",
      "  exit code: 1\n",
      "  \n",
      "  [17 lines of output]\n",
      "  Traceback (most recent call last):\n",
      "    File \"C:\\Users\\abbu0\\AppData\\Local\\Programs\\Python\\Python310\\lib\\site-packages\\pip\\_vendor\\pyproject_hooks\\_in_process\\_in_process.py\", line 353, in <module>\n",
      "      main()\n",
      "    File \"C:\\Users\\abbu0\\AppData\\Local\\Programs\\Python\\Python310\\lib\\site-packages\\pip\\_vendor\\pyproject_hooks\\_in_process\\_in_process.py\", line 335, in main\n",
      "      json_out['return_val'] = hook(**hook_input['kwargs'])\n",
      "    File \"C:\\Users\\abbu0\\AppData\\Local\\Programs\\Python\\Python310\\lib\\site-packages\\pip\\_vendor\\pyproject_hooks\\_in_process\\_in_process.py\", line 118, in get_requires_for_build_wheel\n",
      "      return hook(config_settings)\n",
      "    File \"C:\\Users\\abbu0\\AppData\\Local\\Temp\\pip-build-env-l_vscgdn\\overlay\\Lib\\site-packages\\setuptools\\build_meta.py\", line 341, in get_requires_for_build_wheel\n",
      "      return self._get_build_requires(config_settings, requirements=['wheel'])\n",
      "    File \"C:\\Users\\abbu0\\AppData\\Local\\Temp\\pip-build-env-l_vscgdn\\overlay\\Lib\\site-packages\\setuptools\\build_meta.py\", line 323, in _get_build_requires\n",
      "      self.run_setup()\n",
      "    File \"C:\\Users\\abbu0\\AppData\\Local\\Temp\\pip-build-env-l_vscgdn\\overlay\\Lib\\site-packages\\setuptools\\build_meta.py\", line 487, in run_setup\n",
      "      super(_BuildMetaLegacyBackend,\n",
      "    File \"C:\\Users\\abbu0\\AppData\\Local\\Temp\\pip-build-env-l_vscgdn\\overlay\\Lib\\site-packages\\setuptools\\build_meta.py\", line 338, in run_setup\n",
      "      exec(code, locals())\n",
      "    File \"<string>\", line 122, in <module>\n",
      "  ModuleNotFoundError: No module named 'Cython'\n",
      "  [end of output]\n",
      "  \n",
      "  note: This error originates from a subprocess, and is likely not a problem with pip.\n",
      "error: subprocess-exited-with-error\n",
      "\n",
      "Getting requirements to build wheel did not run successfully.\n",
      "exit code: 1\n",
      "\n",
      "See above for output.\n",
      "\n",
      "note: This error originates from a subprocess, and is likely not a problem with pip.\n"
     ]
    },
    {
     "name": "stdout",
     "output_type": "stream",
     "text": [
      "Requirement already satisfied: prophet in c:\\users\\abbu0\\appdata\\local\\programs\\python\\python310\\lib\\site-packages (1.1.3)\n",
      "Requirement already satisfied: cmdstanpy>=1.0.4 in c:\\users\\abbu0\\appdata\\local\\programs\\python\\python310\\lib\\site-packages (from prophet) (1.1.0)\n",
      "Requirement already satisfied: numpy>=1.15.4 in c:\\users\\abbu0\\appdata\\local\\programs\\python\\python310\\lib\\site-packages (from prophet) (1.24.3)\n",
      "Requirement already satisfied: matplotlib>=2.0.0 in c:\\users\\abbu0\\appdata\\local\\programs\\python\\python310\\lib\\site-packages (from prophet) (3.7.1)\n",
      "Requirement already satisfied: pandas>=1.0.4 in c:\\users\\abbu0\\appdata\\local\\programs\\python\\python310\\lib\\site-packages (from prophet) (2.0.1)\n",
      "Requirement already satisfied: LunarCalendar>=0.0.9 in c:\\users\\abbu0\\appdata\\local\\programs\\python\\python310\\lib\\site-packages (from prophet) (0.0.9)\n",
      "Requirement already satisfied: convertdate>=2.1.2 in c:\\users\\abbu0\\appdata\\local\\programs\\python\\python310\\lib\\site-packages (from prophet) (2.4.0)\n",
      "Requirement already satisfied: holidays>=0.14.2 in c:\\users\\abbu0\\appdata\\local\\programs\\python\\python310\\lib\\site-packages (from prophet) (0.25)\n",
      "Requirement already satisfied: python-dateutil>=2.8.0 in c:\\users\\abbu0\\appdata\\local\\programs\\python\\python310\\lib\\site-packages (from prophet) (2.8.2)\n",
      "Requirement already satisfied: tqdm>=4.36.1 in c:\\users\\abbu0\\appdata\\local\\programs\\python\\python310\\lib\\site-packages (from prophet) (4.65.0)\n",
      "Requirement already satisfied: importlib-resources in c:\\users\\abbu0\\appdata\\local\\programs\\python\\python310\\lib\\site-packages (from prophet) (5.12.0)\n",
      "Requirement already satisfied: pymeeus<=1,>=0.3.13 in c:\\users\\abbu0\\appdata\\local\\programs\\python\\python310\\lib\\site-packages (from convertdate>=2.1.2->prophet) (0.5.12)\n",
      "Requirement already satisfied: korean-lunar-calendar in c:\\users\\abbu0\\appdata\\local\\programs\\python\\python310\\lib\\site-packages (from holidays>=0.14.2->prophet) (0.3.1)\n",
      "Requirement already satisfied: ephem>=3.7.5.3 in c:\\users\\abbu0\\appdata\\local\\programs\\python\\python310\\lib\\site-packages (from LunarCalendar>=0.0.9->prophet) (4.1.4)\n",
      "Requirement already satisfied: pytz in c:\\users\\abbu0\\appdata\\local\\programs\\python\\python310\\lib\\site-packages (from LunarCalendar>=0.0.9->prophet) (2022.1)\n",
      "Requirement already satisfied: contourpy>=1.0.1 in c:\\users\\abbu0\\appdata\\local\\programs\\python\\python310\\lib\\site-packages (from matplotlib>=2.0.0->prophet) (1.0.7)\n",
      "Requirement already satisfied: cycler>=0.10 in c:\\users\\abbu0\\appdata\\local\\programs\\python\\python310\\lib\\site-packages (from matplotlib>=2.0.0->prophet) (0.11.0)\n",
      "Requirement already satisfied: fonttools>=4.22.0 in c:\\users\\abbu0\\appdata\\local\\programs\\python\\python310\\lib\\site-packages (from matplotlib>=2.0.0->prophet) (4.39.4)\n",
      "Requirement already satisfied: kiwisolver>=1.0.1 in c:\\users\\abbu0\\appdata\\local\\programs\\python\\python310\\lib\\site-packages (from matplotlib>=2.0.0->prophet) (1.4.4)\n",
      "Requirement already satisfied: packaging>=20.0 in c:\\users\\abbu0\\appdata\\local\\programs\\python\\python310\\lib\\site-packages (from matplotlib>=2.0.0->prophet) (21.3)\n",
      "Requirement already satisfied: pillow>=6.2.0 in c:\\users\\abbu0\\appdata\\local\\programs\\python\\python310\\lib\\site-packages (from matplotlib>=2.0.0->prophet) (9.5.0)\n",
      "Requirement already satisfied: pyparsing>=2.3.1 in c:\\users\\abbu0\\appdata\\local\\programs\\python\\python310\\lib\\site-packages (from matplotlib>=2.0.0->prophet) (3.0.9)\n",
      "Requirement already satisfied: tzdata>=2022.1 in c:\\users\\abbu0\\appdata\\local\\programs\\python\\python310\\lib\\site-packages (from pandas>=1.0.4->prophet) (2023.3)\n",
      "Requirement already satisfied: six>=1.5 in c:\\users\\abbu0\\appdata\\local\\programs\\python\\python310\\lib\\site-packages (from python-dateutil>=2.8.0->prophet) (1.16.0)\n",
      "Requirement already satisfied: colorama in c:\\users\\abbu0\\appdata\\local\\programs\\python\\python310\\lib\\site-packages (from tqdm>=4.36.1->prophet) (0.4.5)\n",
      "Requirement already satisfied: scikit-learn in c:\\users\\abbu0\\appdata\\local\\programs\\python\\python310\\lib\\site-packages (1.2.2)\n",
      "Requirement already satisfied: numpy>=1.17.3 in c:\\users\\abbu0\\appdata\\local\\programs\\python\\python310\\lib\\site-packages (from scikit-learn) (1.24.3)\n",
      "Requirement already satisfied: scipy>=1.3.2 in c:\\users\\abbu0\\appdata\\local\\programs\\python\\python310\\lib\\site-packages (from scikit-learn) (1.10.1)\n",
      "Requirement already satisfied: joblib>=1.1.1 in c:\\users\\abbu0\\appdata\\local\\programs\\python\\python310\\lib\\site-packages (from scikit-learn) (1.2.0)\n",
      "Requirement already satisfied: threadpoolctl>=2.0.0 in c:\\users\\abbu0\\appdata\\local\\programs\\python\\python310\\lib\\site-packages (from scikit-learn) (3.1.0)\n"
     ]
    }
   ],
   "source": [
    "!pip install pystan\n",
    "!pip install prophet\n",
    "!pip install scikit-learn"
   ]
  },
  {
   "cell_type": "code",
   "execution_count": 3,
   "id": "de51f8d0",
   "metadata": {},
   "outputs": [
    {
     "name": "stderr",
     "output_type": "stream",
     "text": [
      "Importing plotly failed. Interactive plots will not work.\n"
     ]
    }
   ],
   "source": [
    "import numpy as np\n",
    "import pandas as pd\n",
    "import matplotlib.pyplot as plt\n",
    "\n",
    "from prophet import Prophet"
   ]
  },
  {
   "cell_type": "code",
   "execution_count": null,
   "id": "d6679457",
   "metadata": {},
   "outputs": [],
   "source": [
    "# Read data that user has entered\n",
    "data = pd.read_csv('data/user001_data.csv')"
   ]
  },
  {
   "cell_type": "code",
   "execution_count": null,
   "id": "dc13dba5",
   "metadata": {},
   "outputs": [],
   "source": [
    "# Segregate data into four types\n",
    "stocks = data[data['Type'] == 'stocks']\n",
    "crypto = data[data['Type'] == 'crypto']\n",
    "gold = data[data['Type'] == 'gold']\n",
    "real_estate = data[data['Type'] == 'real estate']"
   ]
  },
  {
   "cell_type": "code",
   "execution_count": null,
   "id": "a721cbcd",
   "metadata": {},
   "outputs": [],
   "source": [
    "# Define a function to split data into train and test sets\n",
    "def split_train_test(df, test_ratio=0.2):\n",
    "    split_index = int(len(df) * (1 - test_ratio))\n",
    "    train_set = df[:split_index]\n",
    "    test_set = df[split_index:]\n",
    "    return train_set, test_set"
   ]
  },
  {
   "cell_type": "code",
   "execution_count": null,
   "id": "464570b9",
   "metadata": {},
   "outputs": [],
   "source": [
    "# Define a function to train the Prophet model\n",
    "def train_prophet_model(train_df):\n",
    "    model = Prophet()\n",
    "    model.fit(train_df)\n",
    "    return model"
   ]
  },
  {
   "cell_type": "code",
   "execution_count": null,
   "id": "3e8d6606",
   "metadata": {},
   "outputs": [],
   "source": [
    "# Define a function to make predictions on the test set\n",
    "def make_predictions(model, test_df):\n",
    "    future = model.make_future_dataframe(periods=len(test_df))\n",
    "    forecast = model.predict(future)\n",
    "    return forecast"
   ]
  },
  {
   "cell_type": "code",
   "execution_count": null,
   "id": "2e95fa39",
   "metadata": {},
   "outputs": [],
   "source": [
    "# Train models for each data type\n",
    "stocks_model = train_prophet_model(stocks_train)\n",
    "crypto_model = train_prophet_model(crypto_train)\n",
    "gold_model = train_prophet_model(gold_train)\n",
    "real_estate_model = train_prophet_model(real_estate_train)"
   ]
  },
  {
   "cell_type": "code",
   "execution_count": null,
   "id": "bd8c1850",
   "metadata": {},
   "outputs": [],
   "source": [
    "# Make predictions on the test set\n",
    "stocks_predictions = make_predictions(stocks_model, stocks_test)\n",
    "crypto_predictions = make_predictions(crypto_model, crypto_test)\n",
    "gold_predictions = make_predictions(gold_model, gold_test)\n",
    "real_estate_predictions = make_predictions(real_estate_model, real_estate_test)"
   ]
  },
  {
   "cell_type": "code",
   "execution_count": null,
   "id": "f4061dd4",
   "metadata": {},
   "outputs": [],
   "source": []
  }
 ],
 "metadata": {
  "kernelspec": {
   "display_name": "Python 3 (ipykernel)",
   "language": "python",
   "name": "python3"
  },
  "language_info": {
   "codemirror_mode": {
    "name": "ipython",
    "version": 3
   },
   "file_extension": ".py",
   "mimetype": "text/x-python",
   "name": "python",
   "nbconvert_exporter": "python",
   "pygments_lexer": "ipython3",
   "version": "3.10.5"
  }
 },
 "nbformat": 4,
 "nbformat_minor": 5
}
